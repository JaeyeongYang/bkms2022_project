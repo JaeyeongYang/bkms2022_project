{
 "cells": [
  {
   "cell_type": "code",
   "execution_count": 1,
   "id": "043aa4db-aa41-495e-8d44-9510122b7f87",
   "metadata": {},
   "outputs": [],
   "source": [
    "import lxml.etree as et\n",
    "from pathlib import Path"
   ]
  },
  {
   "cell_type": "code",
   "execution_count": 2,
   "id": "ca456960-917e-4a3e-88cf-872bdf7c8725",
   "metadata": {},
   "outputs": [],
   "source": [
    "PATH_CWD = Path.cwd()\n",
    "PATH_DATA = PATH_CWD / 'data'\n",
    "\n",
    "FILE_DATA = PATH_DATA / 'dblp-2022-05-02.xml'"
   ]
  },
  {
   "cell_type": "code",
   "execution_count": 30,
   "id": "8e1b691a-556e-4ca1-9843-f5effb7112b5",
   "metadata": {},
   "outputs": [
    {
     "name": "stdout",
     "output_type": "stream",
     "text": [
      "1 article \n",
      "\n",
      "3 article \n",
      "\n",
      "5 article \n",
      "\n",
      "10 phdthesis \n",
      "\n",
      "17 phdthesis \n",
      "\n",
      "25 phdthesis \n",
      "\n",
      "31 phdthesis \n",
      "\n",
      "39 phdthesis \n",
      "\n",
      "46 phdthesis \n",
      "\n",
      "53 phdthesis \n",
      "\n",
      "61 phdthesis \n",
      "\n",
      "67 phdthesis \n",
      "\n",
      "72 phdthesis \n",
      "\n",
      "79 phdthesis \n",
      "\n",
      "87 phdthesis \n",
      "\n",
      "95 phdthesis \n",
      "\n"
     ]
    }
   ],
   "source": [
    "tags_publication = (\n",
    "    'article', 'inproceedings', 'proceedings', 'book', 'incollection',\n",
    "    'phdthesis', 'mastersthesis', 'www', 'person', 'data',\n",
    ")\n",
    "events = ('end',)\n",
    "\n",
    "with open(FILE_DATA, 'rb') as f:\n",
    "    for i, (event, elem) in enumerate(et.iterparse(f, events=events)):\n",
    "        if i >= 100:\n",
    "            break\n",
    "        \n",
    "        if elem.tag in tags_publication:\n",
    "            print(i, elem.tag, elem.text)"
   ]
  },
  {
   "cell_type": "code",
   "execution_count": 34,
   "id": "e81fad1c-bb0b-403c-8450-812285f7bb6f",
   "metadata": {},
   "outputs": [
    {
     "ename": "XMLSyntaxError",
     "evalue": "Entity 'igrave' not defined, line 66, column 29 (dblp-2022-05-02.xml, line 66)",
     "output_type": "error",
     "traceback": [
      "Traceback \u001b[0;36m(most recent call last)\u001b[0m:\n",
      "  File \u001b[1;32m~/Library/Caches/pypoetry/virtualenvs/bkms2022-project-TgWk65C4-py3.9/lib/python3.9/site-packages/IPython/core/interactiveshell.py:3397\u001b[0m in \u001b[1;35mrun_code\u001b[0m\n    exec(code_obj, self.user_global_ns, self.user_ns)\n",
      "  Input \u001b[1;32mIn [34]\u001b[0m in \u001b[1;35m<cell line: 7>\u001b[0m\n    for i, (event, elem) in enumerate(et.iterparse(f, events=events, tag=tags_publication)):\n",
      "  File \u001b[1;32msrc/lxml/iterparse.pxi:210\u001b[0m in \u001b[1;35mlxml.etree.iterparse.__next__\u001b[0m\n",
      "  File \u001b[1;32msrc/lxml/iterparse.pxi:195\u001b[0m in \u001b[1;35mlxml.etree.iterparse.__next__\u001b[0m\n",
      "  File \u001b[1;32msrc/lxml/iterparse.pxi:230\u001b[0m in \u001b[1;35mlxml.etree.iterparse._read_more_events\u001b[0m\n",
      "  File \u001b[1;32msrc/lxml/parser.pxi:1376\u001b[0m in \u001b[1;35mlxml.etree._FeedParser.feed\u001b[0m\n",
      "  File \u001b[1;32msrc/lxml/parser.pxi:606\u001b[0m in \u001b[1;35mlxml.etree._ParserContext._handleParseResult\u001b[0m\n",
      "  File \u001b[1;32msrc/lxml/parser.pxi:615\u001b[0m in \u001b[1;35mlxml.etree._ParserContext._handleParseResultDoc\u001b[0m\n",
      "  File \u001b[1;32msrc/lxml/parser.pxi:725\u001b[0m in \u001b[1;35mlxml.etree._handleParseResult\u001b[0m\n",
      "\u001b[0;36m  File \u001b[0;32msrc/lxml/parser.pxi:654\u001b[0;36m in \u001b[0;35mlxml.etree._raiseParseError\u001b[0;36m\u001b[0m\n",
      "\u001b[0;36m  File \u001b[0;32m~/lectures/bkms2022_project/data/dblp-2022-05-02.xml:66\u001b[0;36m\u001b[0m\n\u001b[0;31m    <author>Antonio Gull&igrave;</author>\u001b[0m\n\u001b[0m                               ^\u001b[0m\n\u001b[0;31mXMLSyntaxError\u001b[0m\u001b[0;31m:\u001b[0m Entity 'igrave' not defined, line 66, column 29\n"
     ]
    }
   ],
   "source": [
    "tags_publication = (\n",
    "    'article', 'inproceedings', 'proceedings', 'book', 'incollection',\n",
    "    'phdthesis', 'mastersthesis', 'www', 'person', 'data',\n",
    ")\n",
    "events = ('end',)\n",
    "\n",
    "with open(FILE_DATA, 'rb') as f:\n",
    "    for i, (event, elem) in enumerate(et.iterparse(f, events=events, tag=tags_publication)):\n",
    "        continue"
   ]
  },
  {
   "cell_type": "code",
   "execution_count": 26,
   "id": "2ee7bc4f-d9dc-4957-8143-9f990134bb5f",
   "metadata": {},
   "outputs": [
    {
     "data": {
      "text/plain": [
       "173494"
      ]
     },
     "execution_count": 26,
     "metadata": {},
     "output_type": "execute_result"
    }
   ],
   "source": [
    "i"
   ]
  },
  {
   "cell_type": "code",
   "execution_count": 24,
   "id": "71c526c2-45d3-45ff-88ec-45158dd59e7f",
   "metadata": {},
   "outputs": [
    {
     "data": {
      "text/plain": [
       "<Element ee at 0x1140e9200>"
      ]
     },
     "execution_count": 24,
     "metadata": {},
     "output_type": "execute_result"
    }
   ],
   "source": [
    "elem"
   ]
  },
  {
   "cell_type": "code",
   "execution_count": 17,
   "id": "b6429bbe-bb6b-4df5-82b7-46ed099793e9",
   "metadata": {},
   "outputs": [
    {
     "data": {
      "text/plain": [
       "['mdate', 'key', 'publtype']"
      ]
     },
     "execution_count": 17,
     "metadata": {},
     "output_type": "execute_result"
    }
   ],
   "source": [
    "elem.keys()"
   ]
  }
 ],
 "metadata": {
  "kernelspec": {
   "display_name": "Python 3 (ipykernel)",
   "language": "python",
   "name": "python3"
  },
  "language_info": {
   "codemirror_mode": {
    "name": "ipython",
    "version": 3
   },
   "file_extension": ".py",
   "mimetype": "text/x-python",
   "name": "python",
   "nbconvert_exporter": "python",
   "pygments_lexer": "ipython3",
   "version": "3.9.10"
  }
 },
 "nbformat": 4,
 "nbformat_minor": 5
}
