{
 "cells": [
  {
   "cell_type": "markdown",
   "id": "40018a88",
   "metadata": {},
   "source": [
    "## Flask 초안"
   ]
  },
  {
   "cell_type": "code",
   "execution_count": null,
   "id": "d6966c07",
   "metadata": {},
   "outputs": [],
   "source": [
    "# 사전에 flask를 설치해야합니다.\n",
    "# Colab에서는 !pip install flask-ngrok, 로컬에서는 conda install flask로 설치\n",
    "from flask import Flask, request, jsonify\n",
    "from flask_cors import CORS # Enable cross-origin requests for API\n",
    "\n",
    "import paper_recommendation # 우리 팀의 content based recommendation 파일을 불러옴"
   ]
  },
  {
   "cell_type": "code",
   "execution_count": null,
   "id": "5e335db5",
   "metadata": {},
   "outputs": [],
   "source": [
    "app = Flask(__name__) # Flask 객체를 app이라는 변수에 할당, __name__은 modul이름이 저장되는 변수, 현재 스크립트가 main이라는 것을 확인\n",
    "CORS(app)\n",
    "\n",
    "@app.route('/paper', methods=['GET']) # 인터넷의 주소부분\n",
    "def recommendation():\n",
    "    rec = paper_recommendation.results(requests.args.get('title'))\n",
    "    # 논문 타이틀이 query string으로 result() function에 들어감\n",
    "    return jsonify(rec)\n",
    "\n",
    "if __name__ == '__main__':\n",
    "    app.run(prot = 5000, debug = True) # 현재 스크립트가 main이므로 app.run 실행 가능"
   ]
  }
 ],
 "metadata": {
  "kernelspec": {
   "display_name": "Python 3 (ipykernel)",
   "language": "python",
   "name": "python3"
  },
  "language_info": {
   "codemirror_mode": {
    "name": "ipython",
    "version": 3
   },
   "file_extension": ".py",
   "mimetype": "text/x-python",
   "name": "python",
   "nbconvert_exporter": "python",
   "pygments_lexer": "ipython3",
   "version": "3.9.7"
  }
 },
 "nbformat": 4,
 "nbformat_minor": 5
}
