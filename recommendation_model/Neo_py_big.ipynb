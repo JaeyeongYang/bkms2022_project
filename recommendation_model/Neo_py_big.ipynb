{
 "cells": [
  {
   "cell_type": "markdown",
   "metadata": {
    "id": "c1QJ6N7PYg7m"
   },
   "source": [
    "# Neo4j->Colab->Bigquery"
   ]
  },
  {
   "cell_type": "markdown",
   "metadata": {
    "id": "xIlJimUgYl60"
   },
   "source": [
    "## 목적 : 빅쿼리에서 json 파일을 잘 인식하지 못하는 것을 확인했는데 neo4j에서 table 형태로 바로 빅쿼리로 데이터를 보내지 못할 경우, 한 번 json 파일을 정리할 필요가 있을 것으로 보여서 만듦"
   ]
  },
  {
   "cell_type": "code",
   "execution_count": null,
   "metadata": {
    "id": "Zr31EIF_aJEW"
   },
   "outputs": [],
   "source": [
    "!pip install neo4j"
   ]
  },
  {
   "cell_type": "code",
   "execution_count": null,
   "metadata": {
    "id": "ou6_k0MGYdHH"
   },
   "outputs": [],
   "source": [
    "import pandas as pd\n",
    "import json\n",
    "from pandas.io import gbq\n",
    "from pandas import DataFrame"
   ]
  },
  {
   "cell_type": "markdown",
   "metadata": {
    "id": "kIOxDY9Bb92t"
   },
   "source": [
    "# 1. Neo4j 접근하여 바로 DataFrame 만들고 BIgquery로 전달"
   ]
  },
  {
   "cell_type": "markdown",
   "metadata": {
    "id": "DDQOoNJ2bxVO"
   },
   "source": [
    "## 1) Querying Neo4j from Python"
   ]
  },
  {
   "cell_type": "code",
   "execution_count": null,
   "metadata": {
    "id": "GcOzhjsHaIpT"
   },
   "outputs": [],
   "source": [
    "driver = GraphDatabase.driver(\"neo4j://localhost:7687\", auth=(\"neo4j\", \"password\"))"
   ]
  },
  {
   "cell_type": "code",
   "execution_count": null,
   "metadata": {
    "id": "npuRDmqkaHSu"
   },
   "outputs": [],
   "source": [
    "with driver.session() as session:\n",
    "    result = session.run(\"MATCH (a) RETURN COUNT(a)\")\n",
    "    for r in result:\n",
    "        print(r)"
   ]
  },
  {
   "cell_type": "markdown",
   "metadata": {
    "id": "RQ8_S2J2b38P"
   },
   "source": [
    "## 2) Cypher query to DataFrame"
   ]
  },
  {
   "cell_type": "code",
   "execution_count": null,
   "metadata": {
    "id": "yS9_Da5naHVf"
   },
   "outputs": [],
   "source": [
    "with driver.session() as session:\n",
    "    result = session.run(\"MATCH (p:Person)-[:INTERESTED_IN]-(u:Usecase) WITH u.name AS usecase, COUNT(*) AS num RETURN usecase, num\")\n",
    "    df = DataFrame(result.data())"
   ]
  },
  {
   "cell_type": "markdown",
   "metadata": {
    "id": "NP6ebCSJifk4"
   },
   "source": [
    "## 3) DataFrame to Bigquery"
   ]
  },
  {
   "cell_type": "code",
   "execution_count": null,
   "metadata": {
    "id": "c53s63m7aHYY"
   },
   "outputs": [],
   "source": [
    "df.to_gbq(destination_table='Data_set.data_table', # Bigquery에서 만들어 놓은 Dataset과 Data table 이름 입력\n",
    "\t\t  project_id='Project_id', # Project id\n",
    "\t\t  if_exists='replace')"
   ]
  },
  {
   "cell_type": "markdown",
   "metadata": {
    "id": "68Naf_n8kHZf"
   },
   "source": [
    "## 4) Bigquery to Python(필요한 경우)"
   ]
  },
  {
   "cell_type": "code",
   "execution_count": null,
   "metadata": {
    "id": "_M4fzBybaHcl"
   },
   "outputs": [],
   "source": [
    "sql = \"SELECT * FROM Data_Set.data_table WHERE * ORDER BY * limit *\" # Query문 작성\n",
    "project_id = 'my_project_id\" # Project id\n",
    "df = pd.read_gbq(sql, project_id=project_id, dialect='standard')"
   ]
  },
  {
   "cell_type": "markdown",
   "metadata": {
    "id": "v1BIH7_jeRZY"
   },
   "source": [
    "# 2. Neo4j에서 json 파일 받아서 DataFrame 만들고 BIgquery로 전달"
   ]
  },
  {
   "cell_type": "markdown",
   "metadata": {
    "id": "mPSoEct3iJ80"
   },
   "source": [
    "## 1) Connect neo4j and python"
   ]
  },
  {
   "cell_type": "code",
   "execution_count": null,
   "metadata": {
    "id": "0bozJ5vLeMrv"
   },
   "outputs": [],
   "source": [
    "driver = GraphDatabase.driver(\"neo4j://localhost:7687\", auth=(\"neo4j\", \"password\"))\n",
    "session = driver.session()"
   ]
  },
  {
   "cell_type": "code",
   "execution_count": null,
   "metadata": {
    "id": "8B3YYvLKfiaZ"
   },
   "outputs": [],
   "source": [
    "q1=\"\"\"\n",
    "CALL apoc.export.json.all(\"./Data/neo_from_python.json\")\n",
    "\"\"\""
   ]
  },
  {
   "cell_type": "code",
   "execution_count": null,
   "metadata": {
    "id": "pufMGT12fidG"
   },
   "outputs": [],
   "source": [
    "session.run(q1).data()"
   ]
  },
  {
   "cell_type": "markdown",
   "metadata": {
    "id": "c5TivSbaiJJn"
   },
   "source": [
    "## 2) Json to DataFrame"
   ]
  },
  {
   "cell_type": "code",
   "execution_count": null,
   "metadata": {
    "id": "edcG2SCjYd4g"
   },
   "outputs": [],
   "source": [
    "title_lst, year_lst = [], []\n",
    "with open(\"./Data/neo_from_python.json\", encoding=\"utf-8\") as f:\n",
    "  data = json.load(f)\n",
    "# Create 'Title' DataFrame\n",
    "for i in data :\n",
    "    json_title = i['title']\n",
    "    json_date = i['year']\n",
    "    title_lst.append(json_title)\n",
    "    year_lst.append(json_date)\n",
    "df = pd.DataFrame(year_lst, columns = ['year'])\n",
    "df1 = pd.DataFrame(title_lst, columns = ['title'])\n",
    "df2 = pd.concat([df,df1],axis=1)"
   ]
  },
  {
   "cell_type": "markdown",
   "metadata": {
    "id": "hftkHBB6jEQS"
   },
   "source": [
    "## 3) DataFrame to Bigquery"
   ]
  },
  {
   "cell_type": "code",
   "execution_count": null,
   "metadata": {
    "id": "8fSyQsFJYd6n"
   },
   "outputs": [],
   "source": [
    "df2.to_gbq(destination_table='Data_set.data_table', # Bigquery에서 만들어 놓은 Dataset과 Data table 이름 입력\n",
    "\t\t  project_id='Project_id', # Project id\n",
    "\t\t  if_exists='replace')"
   ]
  },
  {
   "cell_type": "markdown",
   "metadata": {
    "id": "0Jva3i06kXa1"
   },
   "source": [
    "## 4) Bigquery to Python(필요한 경우)"
   ]
  },
  {
   "cell_type": "code",
   "execution_count": null,
   "metadata": {
    "id": "CNHWanFlYd87"
   },
   "outputs": [],
   "source": [
    "sql = \"SELECT * FROM Data_Set.data_table WHERE * ORDER BY * limit *\" # Query문 작성\n",
    "project_id = 'my_project_id\" # Project id\n",
    "df = pd.read_gbq(sql, project_id=project_id, dialect='standard')"
   ]
  }
 ],
 "metadata": {
  "colab": {
   "authorship_tag": "ABX9TyPUB/b24e6ylhphqxEdUcay",
   "collapsed_sections": [],
   "name": "Neo_py_big.ipynb",
   "provenance": []
  },
  "kernelspec": {
   "display_name": "Python 3 (ipykernel)",
   "language": "python",
   "name": "python3"
  },
  "language_info": {
   "codemirror_mode": {
    "name": "ipython",
    "version": 3
   },
   "file_extension": ".py",
   "mimetype": "text/x-python",
   "name": "python",
   "nbconvert_exporter": "python",
   "pygments_lexer": "ipython3",
   "version": "3.9.10"
  }
 },
 "nbformat": 4,
 "nbformat_minor": 4
}
