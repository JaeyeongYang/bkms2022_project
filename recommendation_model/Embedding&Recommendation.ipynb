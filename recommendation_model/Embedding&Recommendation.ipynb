{
 "cells": [
  {
   "cell_type": "markdown",
   "metadata": {
    "id": "jJgLWM9BLgBo"
   },
   "source": [
    "## 1. 빅쿼리에서 데이터 불러오기"
   ]
  },
  {
   "cell_type": "code",
   "execution_count": 3,
   "metadata": {
    "executionInfo": {
     "elapsed": 8,
     "status": "ok",
     "timestamp": 1653207037177,
     "user": {
      "displayName": "Yunjun Choi",
      "userId": "04978225362860966496"
     },
     "user_tz": -540
    },
    "id": "217l-wmZ0OJg"
   },
   "outputs": [],
   "source": [
    "import pandas as pd\n",
    "import json\n",
    "from pandas.io import gbq\n",
    "from pandas import DataFrame"
   ]
  },
  {
   "cell_type": "code",
   "execution_count": 20,
   "metadata": {
    "executionInfo": {
     "elapsed": 281,
     "status": "ok",
     "timestamp": 1653208968567,
     "user": {
      "displayName": "Yunjun Choi",
      "userId": "04978225362860966496"
     },
     "user_tz": -540
    },
    "id": "j4yfV_cq7M0E"
   },
   "outputs": [],
   "source": [
    "from typing import List\n",
    "import numpy as np\n",
    "import tensorflow as tf\n",
    "import tensorflow_hub as hub"
   ]
  },
  {
   "cell_type": "code",
   "execution_count": null,
   "metadata": {
    "id": "w1QamZcjV65L"
   },
   "outputs": [],
   "source": [
    "from tensorflow.python.ops.numpy_ops import np_config\n",
    "np_config.enable_numpy_behavior()"
   ]
  },
  {
   "cell_type": "code",
   "execution_count": 4,
   "metadata": {
    "colab": {
     "base_uri": "https://localhost:8080/"
    },
    "executionInfo": {
     "elapsed": 279,
     "status": "ok",
     "timestamp": 1653207039167,
     "user": {
      "displayName": "Yunjun Choi",
      "userId": "04978225362860966496"
     },
     "user_tz": -540
    },
    "id": "Me3wxlnuyxjm",
    "outputId": "ab10ff8e-5783-4bbe-a82f-264d62dda63d"
   },
   "outputs": [
    {
     "name": "stdout",
     "output_type": "stream",
     "text": [
      "The google.cloud.bigquery extension is already loaded. To reload it, use:\n",
      "  %reload_ext google.cloud.bigquery\n"
     ]
    }
   ],
   "source": [
    "from google.colab import auth\n",
    "auth.authenticate_user()\n",
    "project_id = \"dbmsproject-350608\"  # replace with GCP project to bill against\n",
    "%load_ext google.cloud.bigquery"
   ]
  },
  {
   "cell_type": "code",
   "execution_count": 5,
   "metadata": {
    "executionInfo": {
     "elapsed": 1761,
     "status": "ok",
     "timestamp": 1653207043384,
     "user": {
      "displayName": "Yunjun Choi",
      "userId": "04978225362860966496"
     },
     "user_tz": -540
    },
    "id": "474qCqc3znDf"
   },
   "outputs": [],
   "source": [
    "sql = \"SELECT * FROM part1json.prac1\"\n",
    "project_id = 'dbmsproject-350608' # Project id\n",
    "df = pd.read_gbq(sql, project_id=project_id, dialect='standard')"
   ]
  },
  {
   "cell_type": "markdown",
   "metadata": {
    "id": "KsqWSp3eTqeG"
   },
   "source": [
    "## 2. Text embedding 만들기"
   ]
  },
  {
   "cell_type": "code",
   "execution_count": null,
   "metadata": {
    "id": "vXL1IA3HMF0_"
   },
   "outputs": [],
   "source": [
    "df2 = df.reset_index()\n",
    "all_titles = [df2['title'][i] for i in range(len(df2['title']))]"
   ]
  },
  {
   "cell_type": "code",
   "execution_count": 63,
   "metadata": {
    "executionInfo": {
     "elapsed": 6380,
     "status": "ok",
     "timestamp": 1653215536790,
     "user": {
      "displayName": "Yunjun Choi",
      "userId": "04978225362860966496"
     },
     "user_tz": -540
    },
    "id": "jaED3o9u67hF"
   },
   "outputs": [],
   "source": [
    "embed = hub.load(\"https://tfhub.dev/google/universal-sentence-encoder/4\", tags=None, options=None)"
   ]
  },
  {
   "cell_type": "code",
   "execution_count": 13,
   "metadata": {
    "executionInfo": {
     "elapsed": 10,
     "status": "ok",
     "timestamp": 1653208846409,
     "user": {
      "displayName": "Yunjun Choi",
      "userId": "04978225362860966496"
     },
     "user_tz": -540
    },
    "id": "dKzJ-Df26-Hb"
   },
   "outputs": [],
   "source": [
    "title_lst = list(df['title'])"
   ]
  },
  {
   "cell_type": "code",
   "execution_count": 64,
   "metadata": {
    "executionInfo": {
     "elapsed": 428,
     "status": "ok",
     "timestamp": 1653215537159,
     "user": {
      "displayName": "Yunjun Choi",
      "userId": "04978225362860966496"
     },
     "user_tz": -540
    },
    "id": "OaGDn2256-zm"
   },
   "outputs": [],
   "source": [
    "embeddings = embed(title_lst)"
   ]
  },
  {
   "cell_type": "code",
   "execution_count": 65,
   "metadata": {
    "colab": {
     "base_uri": "https://localhost:8080/"
    },
    "executionInfo": {
     "elapsed": 280,
     "status": "ok",
     "timestamp": 1653215539578,
     "user": {
      "displayName": "Yunjun Choi",
      "userId": "04978225362860966496"
     },
     "user_tz": -540
    },
    "id": "mT6TtMVv7fu2",
    "outputId": "76073f15-63f1-4bcf-c229-9cb0d0083441"
   },
   "outputs": [
    {
     "name": "stdout",
     "output_type": "stream",
     "text": [
      "(72, 512)\n"
     ]
    }
   ],
   "source": [
    "print(embeddings.shape)"
   ]
  },
  {
   "cell_type": "code",
   "execution_count": 66,
   "metadata": {
    "colab": {
     "base_uri": "https://localhost:8080/"
    },
    "executionInfo": {
     "elapsed": 325,
     "status": "ok",
     "timestamp": 1653215541036,
     "user": {
      "displayName": "Yunjun Choi",
      "userId": "04978225362860966496"
     },
     "user_tz": -540
    },
    "id": "smoB9npZNUs4",
    "outputId": "0f538932-f253-4beb-925f-5323d8d73bc3"
   },
   "outputs": [
    {
     "data": {
      "text/plain": [
       "<tf.Tensor: shape=(72, 512), dtype=float32, numpy=\n",
       "array([[-0.0128849 ,  0.03435858,  0.04579103, ..., -0.01481417,\n",
       "         0.04610016,  0.03768883],\n",
       "       [-0.0128849 ,  0.03435858,  0.04579103, ..., -0.01481417,\n",
       "         0.04610016,  0.03768883],\n",
       "       [-0.0128849 ,  0.03435858,  0.04579103, ..., -0.01481417,\n",
       "         0.04610016,  0.03768883],\n",
       "       ...,\n",
       "       [ 0.02569636, -0.03797903,  0.00284038, ..., -0.06915897,\n",
       "         0.0363395 , -0.08800146],\n",
       "       [-0.0128849 ,  0.03435858,  0.04579103, ..., -0.01481417,\n",
       "         0.04610016,  0.03768883],\n",
       "       [-0.01749272, -0.00035105, -0.06476826, ..., -0.05020081,\n",
       "        -0.01653336, -0.08876848]], dtype=float32)>"
      ]
     },
     "execution_count": 66,
     "metadata": {},
     "output_type": "execute_result"
    }
   ],
   "source": [
    "embeddings"
   ]
  },
  {
   "cell_type": "code",
   "execution_count": 74,
   "metadata": {
    "executionInfo": {
     "elapsed": 404,
     "status": "ok",
     "timestamp": 1653215895444,
     "user": {
      "displayName": "Yunjun Choi",
      "userId": "04978225362860966496"
     },
     "user_tz": -540
    },
    "id": "ixFLbml8VQCx"
   },
   "outputs": [],
   "source": [
    "emb_lst = embeddings.tolist()"
   ]
  },
  {
   "cell_type": "code",
   "execution_count": null,
   "metadata": {
    "id": "utzCNT8zWMPu"
   },
   "outputs": [],
   "source": [
    "emb_lst[0]"
   ]
  },
  {
   "cell_type": "code",
   "execution_count": 57,
   "metadata": {
    "executionInfo": {
     "elapsed": 306,
     "status": "ok",
     "timestamp": 1653214993622,
     "user": {
      "displayName": "Yunjun Choi",
      "userId": "04978225362860966496"
     },
     "user_tz": -540
    },
    "id": "gqS6ckhAQxAf"
   },
   "outputs": [],
   "source": [
    "emb_lst = list(embeddings)"
   ]
  },
  {
   "cell_type": "markdown",
   "metadata": {
    "id": "tTaMtlyoXdUw"
   },
   "source": [
    "### Bigquery SQL 사용하게 될 경우 사용할 코드. 사용하지 않을 경우 아래의 파이썬 추천 코드 사용"
   ]
  },
  {
   "cell_type": "code",
   "execution_count": null,
   "metadata": {
    "id": "ovELYuyfT2fY"
   },
   "outputs": [],
   "source": [
    "#standardSQL\n",
    "'''\n",
    "SELECT\n",
    "  c.k1 as input_article_title,\n",
    "  c.k2 as similar_article_title,\n",
    "  SUM(vv1*vv2) / (SQRT(SUM(POW(vv1,2))) * SQRT(SUM(POW(vv2,2)))) AS similarity\n",
    "FROM\n",
    "(\n",
    "  SELECT\n",
    "    a.key k1, a.val v1, b.key k2, b.val v2\n",
    "  FROM\n",
    "  (\n",
    "    SELECT title key, title_embed val\n",
    "    FROM reuters.embeddings\n",
    "    WHERE title LIKE \"HIGH WINDS KEEP VESSELS TRAPPED IN BALTIC ICE\"\n",
    "    LIMIT 1\n",
    "\n",
    "   ) a\n",
    "  CROSS JOIN\n",
    "  (\n",
    "    SELECT title key, title_embed val\n",
    "    FROM reuters.embeddings\n",
    "  ) b\n",
    ") c\n",
    ", UNNEST(c.v1) vv1 with offset ind1 JOIN UNNEST(c.v2) vv2 with offset ind2 ON (ind1=ind2)\n",
    "GROUP BY c.k1, c.k2\n",
    "ORDER BY similarity DESC\n",
    "LIMIT 10\n",
    "'''"
   ]
  },
  {
   "cell_type": "code",
   "execution_count": null,
   "metadata": {
    "id": "7IgHDelHT9cu"
   },
   "outputs": [],
   "source": [
    "'''\n",
    "SELECT\n",
    "  title,\n",
    "  content,\n",
    "  title_embed,\n",
    "  content_embed\n",
    "FROM\n",
    "  reuters.embeddings\n",
    "LIMIT 1\n",
    "'''"
   ]
  },
  {
   "cell_type": "markdown",
   "metadata": {
    "id": "l_kycRXtTuj_"
   },
   "source": [
    "## 3. 추천 모델 생성"
   ]
  },
  {
   "cell_type": "code",
   "execution_count": 43,
   "metadata": {
    "executionInfo": {
     "elapsed": 317,
     "status": "ok",
     "timestamp": 1653210826073,
     "user": {
      "displayName": "Yunjun Choi",
      "userId": "04978225362860966496"
     },
     "user_tz": -540
    },
    "id": "jIF_1h7P9LU-"
   },
   "outputs": [],
   "source": [
    "def get_recommendations(title):\n",
    "  title_num = title_lst.index(title)\n",
    "  tit_lst, score_lst = [], []\n",
    "  for i in range(len(title_lst)):\n",
    "    tit_lst.append(title_lst[i])\n",
    "    score_lst.append(np.inner(embeddings[title_num], embeddings[i]))\n",
    "  del tit_lst[title_num]\n",
    "  del score_lst[title_num]\n",
    "  dft = pd.DataFrame(tit_lst, columns = ['Title'])\n",
    "  dfs = pd.DataFrame(score_lst, columns = ['Score'])\n",
    "  return_df = pd.concat([dft,dfs],axis=1)\n",
    "  return_df = return_df.sort_values('Score', ascending=False)\n",
    "  return_df = return_df[0:10]\n",
    "  return return_df"
   ]
  },
  {
   "cell_type": "code",
   "execution_count": 45,
   "metadata": {
    "colab": {
     "base_uri": "https://localhost:8080/",
     "height": 363
    },
    "executionInfo": {
     "elapsed": 290,
     "status": "ok",
     "timestamp": 1653210856634,
     "user": {
      "displayName": "Yunjun Choi",
      "userId": "04978225362860966496"
     },
     "user_tz": -540
    },
    "id": "yvdyr7yTBYuv",
    "outputId": "a4700a2b-a0cc-4c81-e10e-d9539df6ff0f"
   },
   "outputs": [
    {
     "data": {
      "text/html": [
       "\n",
       "  <div id=\"df-7044c613-ed08-4c6a-a575-7927c94e44a5\">\n",
       "    <div class=\"colab-df-container\">\n",
       "      <div>\n",
       "<style scoped>\n",
       "    .dataframe tbody tr th:only-of-type {\n",
       "        vertical-align: middle;\n",
       "    }\n",
       "\n",
       "    .dataframe tbody tr th {\n",
       "        vertical-align: top;\n",
       "    }\n",
       "\n",
       "    .dataframe thead th {\n",
       "        text-align: right;\n",
       "    }\n",
       "</style>\n",
       "<table border=\"1\" class=\"dataframe\">\n",
       "  <thead>\n",
       "    <tr style=\"text-align: right;\">\n",
       "      <th></th>\n",
       "      <th>Title</th>\n",
       "      <th>Score</th>\n",
       "    </tr>\n",
       "  </thead>\n",
       "  <tbody>\n",
       "    <tr>\n",
       "      <th>22</th>\n",
       "      <td>Frontmatter</td>\n",
       "      <td>0.553950</td>\n",
       "    </tr>\n",
       "    <tr>\n",
       "      <th>5</th>\n",
       "      <td>Flußanalyse</td>\n",
       "      <td>0.550750</td>\n",
       "    </tr>\n",
       "    <tr>\n",
       "      <th>62</th>\n",
       "      <td>FFTW.</td>\n",
       "      <td>0.544288</td>\n",
       "    </tr>\n",
       "    <tr>\n",
       "      <th>34</th>\n",
       "      <td>Fachkunde</td>\n",
       "      <td>0.542142</td>\n",
       "    </tr>\n",
       "    <tr>\n",
       "      <th>20</th>\n",
       "      <td>1may</td>\n",
       "      <td>0.536059</td>\n",
       "    </tr>\n",
       "    <tr>\n",
       "      <th>41</th>\n",
       "      <td>FGDC.</td>\n",
       "      <td>0.535840</td>\n",
       "    </tr>\n",
       "    <tr>\n",
       "      <th>10</th>\n",
       "      <td>7373170279850</td>\n",
       "      <td>0.529005</td>\n",
       "    </tr>\n",
       "    <tr>\n",
       "      <th>16</th>\n",
       "      <td>Flexonics.</td>\n",
       "      <td>0.518328</td>\n",
       "    </tr>\n",
       "    <tr>\n",
       "      <th>23</th>\n",
       "      <td>Fractalmania</td>\n",
       "      <td>0.486325</td>\n",
       "    </tr>\n",
       "    <tr>\n",
       "      <th>47</th>\n",
       "      <td>2BTextures</td>\n",
       "      <td>0.479337</td>\n",
       "    </tr>\n",
       "  </tbody>\n",
       "</table>\n",
       "</div>\n",
       "      <button class=\"colab-df-convert\" onclick=\"convertToInteractive('df-7044c613-ed08-4c6a-a575-7927c94e44a5')\"\n",
       "              title=\"Convert this dataframe to an interactive table.\"\n",
       "              style=\"display:none;\">\n",
       "        \n",
       "  <svg xmlns=\"http://www.w3.org/2000/svg\" height=\"24px\"viewBox=\"0 0 24 24\"\n",
       "       width=\"24px\">\n",
       "    <path d=\"M0 0h24v24H0V0z\" fill=\"none\"/>\n",
       "    <path d=\"M18.56 5.44l.94 2.06.94-2.06 2.06-.94-2.06-.94-.94-2.06-.94 2.06-2.06.94zm-11 1L8.5 8.5l.94-2.06 2.06-.94-2.06-.94L8.5 2.5l-.94 2.06-2.06.94zm10 10l.94 2.06.94-2.06 2.06-.94-2.06-.94-.94-2.06-.94 2.06-2.06.94z\"/><path d=\"M17.41 7.96l-1.37-1.37c-.4-.4-.92-.59-1.43-.59-.52 0-1.04.2-1.43.59L10.3 9.45l-7.72 7.72c-.78.78-.78 2.05 0 2.83L4 21.41c.39.39.9.59 1.41.59.51 0 1.02-.2 1.41-.59l7.78-7.78 2.81-2.81c.8-.78.8-2.07 0-2.86zM5.41 20L4 18.59l7.72-7.72 1.47 1.35L5.41 20z\"/>\n",
       "  </svg>\n",
       "      </button>\n",
       "      \n",
       "  <style>\n",
       "    .colab-df-container {\n",
       "      display:flex;\n",
       "      flex-wrap:wrap;\n",
       "      gap: 12px;\n",
       "    }\n",
       "\n",
       "    .colab-df-convert {\n",
       "      background-color: #E8F0FE;\n",
       "      border: none;\n",
       "      border-radius: 50%;\n",
       "      cursor: pointer;\n",
       "      display: none;\n",
       "      fill: #1967D2;\n",
       "      height: 32px;\n",
       "      padding: 0 0 0 0;\n",
       "      width: 32px;\n",
       "    }\n",
       "\n",
       "    .colab-df-convert:hover {\n",
       "      background-color: #E2EBFA;\n",
       "      box-shadow: 0px 1px 2px rgba(60, 64, 67, 0.3), 0px 1px 3px 1px rgba(60, 64, 67, 0.15);\n",
       "      fill: #174EA6;\n",
       "    }\n",
       "\n",
       "    [theme=dark] .colab-df-convert {\n",
       "      background-color: #3B4455;\n",
       "      fill: #D2E3FC;\n",
       "    }\n",
       "\n",
       "    [theme=dark] .colab-df-convert:hover {\n",
       "      background-color: #434B5C;\n",
       "      box-shadow: 0px 1px 3px 1px rgba(0, 0, 0, 0.15);\n",
       "      filter: drop-shadow(0px 1px 2px rgba(0, 0, 0, 0.3));\n",
       "      fill: #FFFFFF;\n",
       "    }\n",
       "  </style>\n",
       "\n",
       "      <script>\n",
       "        const buttonEl =\n",
       "          document.querySelector('#df-7044c613-ed08-4c6a-a575-7927c94e44a5 button.colab-df-convert');\n",
       "        buttonEl.style.display =\n",
       "          google.colab.kernel.accessAllowed ? 'block' : 'none';\n",
       "\n",
       "        async function convertToInteractive(key) {\n",
       "          const element = document.querySelector('#df-7044c613-ed08-4c6a-a575-7927c94e44a5');\n",
       "          const dataTable =\n",
       "            await google.colab.kernel.invokeFunction('convertToInteractive',\n",
       "                                                     [key], {});\n",
       "          if (!dataTable) return;\n",
       "\n",
       "          const docLinkHtml = 'Like what you see? Visit the ' +\n",
       "            '<a target=\"_blank\" href=https://colab.research.google.com/notebooks/data_table.ipynb>data table notebook</a>'\n",
       "            + ' to learn more about interactive tables.';\n",
       "          element.innerHTML = '';\n",
       "          dataTable['output_type'] = 'display_data';\n",
       "          await google.colab.output.renderOutput(dataTable, element);\n",
       "          const docLink = document.createElement('div');\n",
       "          docLink.innerHTML = docLinkHtml;\n",
       "          element.appendChild(docLink);\n",
       "        }\n",
       "      </script>\n",
       "    </div>\n",
       "  </div>\n",
       "  "
      ],
      "text/plain": [
       "            Title     Score\n",
       "22    Frontmatter  0.553950\n",
       "5     Flußanalyse  0.550750\n",
       "62          FFTW.  0.544288\n",
       "34      Fachkunde  0.542142\n",
       "20           1may  0.536059\n",
       "41          FGDC.  0.535840\n",
       "10  7373170279850  0.529005\n",
       "16     Flexonics.  0.518328\n",
       "23   Fractalmania  0.486325\n",
       "47     2BTextures  0.479337"
      ]
     },
     "execution_count": 45,
     "metadata": {},
     "output_type": "execute_result"
    }
   ],
   "source": [
    "get_recommendations('3GIO.')"
   ]
  },
  {
   "cell_type": "code",
   "execution_count": null,
   "metadata": {
    "id": "F1avVgpKyxoT"
   },
   "outputs": [],
   "source": [
    "import flask\n",
    "app = flask.Flask(__name__, template_folder='templates')\n",
    "# Set up the main route\n",
    "@app.route('/', methods=['GET', 'POST'])\n",
    "def main():\n",
    "  if flask.request.method == 'GET':\n",
    "    return(flask.render_template('index.html'))\n",
    "  if flask.request.method == 'POST':\n",
    "    pname = flask.request.form['paper_name']\n",
    "    pname = pname.title()\n",
    "    if pname not in all_titles:\n",
    "      return(flask.render_template('negative.html', name=pname))\n",
    "    else:\n",
    "      result_final = get_recommendations(pname)\n",
    "      names, dates = [], []\n",
    "      for i in range(len(result_final)):\n",
    "        names.append(result_final.iloc[i][0])\n",
    "        dates.append(result_final.iloc[i][1])\n",
    "      return flask.render_template('positive.html', paper_names=names, paper_date=dates, search_name=pname)\n",
    "    \n",
    "if __name__ == '__main__':\n",
    "    app.run()"
   ]
  }
 ],
 "metadata": {
  "colab": {
   "authorship_tag": "ABX9TyN7OHASwnQUXynJ0svgwgV3",
   "collapsed_sections": [],
   "name": "Embedding&Recommendation.ipynb",
   "provenance": []
  },
  "kernelspec": {
   "display_name": "Python 3 (ipykernel)",
   "language": "python",
   "name": "python3"
  },
  "language_info": {
   "codemirror_mode": {
    "name": "ipython",
    "version": 3
   },
   "file_extension": ".py",
   "mimetype": "text/x-python",
   "name": "python",
   "nbconvert_exporter": "python",
   "pygments_lexer": "ipython3",
   "version": "3.9.10"
  }
 },
 "nbformat": 4,
 "nbformat_minor": 4
}
